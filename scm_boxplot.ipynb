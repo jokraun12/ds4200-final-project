{
 "cells": [
  {
   "cell_type": "code",
   "execution_count": 17,
   "metadata": {},
   "outputs": [],
   "source": [
    "import pandas as pd\n",
    "import altair as alt\n",
    "\n",
    "df = pd.read_excel('data/SCM_Dataset_Updated_with_Green_Logistics.xlsx')\n",
    "\n",
    "# Drop missing values\n",
    "df = df.dropna(subset=['Operational Efficiency Score', 'SCM Practices'])\n",
    "\n",
    "# chart\n",
    "chart = alt.Chart(df).mark_boxplot(size=60).encode(\n",
    "    x=alt.X('SCM Practices:N', axis=alt.Axis(labelAngle=-30)),\n",
    "    y=alt.Y('Operational Efficiency Score:Q', title='Operational Efficiency',  scale=alt.Scale(domain=[70, 95])),\n",
    "    color=alt.Color('SCM Practices:N', legend=alt.Legend(\n",
    "        title='SCM Practice',\n",
    "        orient='top',\n",
    "        columns=3,\n",
    "        direction='horizontal',\n",
    "        labelFontSize=12,\n",
    "        titleFontSize=14\n",
    "    ))\n",
    ").properties(\n",
    "    width=785,\n",
    "    height=450,\n",
    "    title='Operational Efficiency by SCM Practice'\n",
    ")\n",
    "\n",
    "chart.save('scm_boxplot.html')\n"
   ]
  }
 ],
 "metadata": {
  "kernelspec": {
   "display_name": "base",
   "language": "python",
   "name": "python3"
  },
  "language_info": {
   "codemirror_mode": {
    "name": "ipython",
    "version": 3
   },
   "file_extension": ".py",
   "mimetype": "text/x-python",
   "name": "python",
   "nbconvert_exporter": "python",
   "pygments_lexer": "ipython3",
   "version": "3.12.4"
  }
 },
 "nbformat": 4,
 "nbformat_minor": 2
}
