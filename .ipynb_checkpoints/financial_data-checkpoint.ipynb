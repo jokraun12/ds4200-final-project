{
 "cells": [
  {
   "cell_type": "code",
   "execution_count": 60,
   "id": "40b19b93",
   "metadata": {},
   "outputs": [],
   "source": [
    "import pandas as pd\n",
    "import numpy as np\n",
    "import yfinance as yf\n",
    "import requests\n",
    "from tqdm import tqdm\n",
    "import time"
   ]
  },
  {
   "cell_type": "code",
   "execution_count": 61,
   "id": "7010b6c4",
   "metadata": {},
   "outputs": [],
   "source": [
    "# full_df = pd.read_csv('data/full_scm_with_ticker.csv')\n",
    "full_df = pd.read_csv('data/SCM_Dataset_plus_MarketCap_Exchange.csv')"
   ]
  },
  {
   "cell_type": "code",
   "execution_count": 62,
   "id": "ba55f9bc",
   "metadata": {},
   "outputs": [],
   "source": [
    "# full_df.info()"
   ]
  },
  {
   "cell_type": "code",
   "execution_count": 63,
   "id": "e43eedc5",
   "metadata": {},
   "outputs": [],
   "source": [
    "dat = yf.Ticker(\"TSLA\")\n",
    "# dat.info\n",
    "# dat.calendar\n",
    "# dat.analyst_price_targets\n",
    "# dat.quarterly_income_stmt\n",
    "# dat.history(period='1mo')\n",
    "# dat.option_chain(dat.options[0]).calls"
   ]
  },
  {
   "cell_type": "code",
   "execution_count": 64,
   "id": "1dd6c2b0",
   "metadata": {
    "scrolled": false
   },
   "outputs": [
    {
     "data": {
      "text/plain": [
       "'NMS'"
      ]
     },
     "execution_count": 64,
     "metadata": {},
     "output_type": "execute_result"
    }
   ],
   "source": [
    "dat.info['exchange']"
   ]
  },
  {
   "cell_type": "code",
   "execution_count": 65,
   "id": "99e9f856",
   "metadata": {},
   "outputs": [],
   "source": [
    "# full_df['Market Cap'] = None\n",
    "# full_df['Exchange'] = None"
   ]
  },
  {
   "cell_type": "code",
   "execution_count": 66,
   "id": "e23ae549",
   "metadata": {},
   "outputs": [],
   "source": [
    "# full_df.drop(columns = {'Unnamed: 0', 'Unnamed: 0.1'}, inplace = True)"
   ]
  },
  {
   "cell_type": "code",
   "execution_count": 67,
   "id": "3115c169",
   "metadata": {},
   "outputs": [
    {
     "data": {
      "text/html": [
       "<div>\n",
       "<style scoped>\n",
       "    .dataframe tbody tr th:only-of-type {\n",
       "        vertical-align: middle;\n",
       "    }\n",
       "\n",
       "    .dataframe tbody tr th {\n",
       "        vertical-align: top;\n",
       "    }\n",
       "\n",
       "    .dataframe thead th {\n",
       "        text-align: right;\n",
       "    }\n",
       "</style>\n",
       "<table border=\"1\" class=\"dataframe\">\n",
       "  <thead>\n",
       "    <tr style=\"text-align: right;\">\n",
       "      <th></th>\n",
       "      <th>Unnamed: 0</th>\n",
       "      <th>Company Name</th>\n",
       "      <th>SCM Practices</th>\n",
       "      <th>Supplier Count</th>\n",
       "      <th>Inventory Turnover Ratio</th>\n",
       "      <th>Lead Time (days)</th>\n",
       "      <th>Order Fulfillment Rate (%)</th>\n",
       "      <th>Customer Satisfaction (%)</th>\n",
       "      <th>Technology Utilized</th>\n",
       "      <th>Environmental Impact Score</th>\n",
       "      <th>...</th>\n",
       "      <th>Supplier Relationship Score</th>\n",
       "      <th>Total Implementation Cost</th>\n",
       "      <th>Carbon Emissions (kg CO2e)</th>\n",
       "      <th>Recycling Rate (%)</th>\n",
       "      <th>Energy Consumption (MWh)</th>\n",
       "      <th>Use of Renewable Energy (%)</th>\n",
       "      <th>Green Packaging Usage (%)</th>\n",
       "      <th>Ticker</th>\n",
       "      <th>Market Cap</th>\n",
       "      <th>Exchange</th>\n",
       "    </tr>\n",
       "  </thead>\n",
       "  <tbody>\n",
       "    <tr>\n",
       "      <th>0</th>\n",
       "      <td>0</td>\n",
       "      <td>Apple</td>\n",
       "      <td>Agile SCM</td>\n",
       "      <td>300.0</td>\n",
       "      <td>7.0</td>\n",
       "      <td>8.0</td>\n",
       "      <td>94.0</td>\n",
       "      <td>91.0</td>\n",
       "      <td>ERP, AI, Blockchain</td>\n",
       "      <td>70.0</td>\n",
       "      <td>...</td>\n",
       "      <td>85.0</td>\n",
       "      <td>48566365</td>\n",
       "      <td>120000</td>\n",
       "      <td>60</td>\n",
       "      <td>100000</td>\n",
       "      <td>50</td>\n",
       "      <td>40</td>\n",
       "      <td>AAPL</td>\n",
       "      <td>3.273316e+12</td>\n",
       "      <td>NMS</td>\n",
       "    </tr>\n",
       "    <tr>\n",
       "      <th>1</th>\n",
       "      <td>1</td>\n",
       "      <td>Microsoft</td>\n",
       "      <td>Lean Manufacturing</td>\n",
       "      <td>200.0</td>\n",
       "      <td>5.2</td>\n",
       "      <td>15.0</td>\n",
       "      <td>91.0</td>\n",
       "      <td>89.0</td>\n",
       "      <td>ERP, AI, Robotics</td>\n",
       "      <td>75.0</td>\n",
       "      <td>...</td>\n",
       "      <td>85.0</td>\n",
       "      <td>54456148</td>\n",
       "      <td>121000</td>\n",
       "      <td>61</td>\n",
       "      <td>100500</td>\n",
       "      <td>51</td>\n",
       "      <td>41</td>\n",
       "      <td>MSFT</td>\n",
       "      <td>2.815991e+12</td>\n",
       "      <td>NMS</td>\n",
       "    </tr>\n",
       "    <tr>\n",
       "      <th>2</th>\n",
       "      <td>2</td>\n",
       "      <td>Google</td>\n",
       "      <td>Cross-Docking</td>\n",
       "      <td>20000.0</td>\n",
       "      <td>7.5</td>\n",
       "      <td>4.0</td>\n",
       "      <td>95.0</td>\n",
       "      <td>90.0</td>\n",
       "      <td>AI, ERP, Blockchain</td>\n",
       "      <td>70.0</td>\n",
       "      <td>...</td>\n",
       "      <td>85.0</td>\n",
       "      <td>78733131</td>\n",
       "      <td>122000</td>\n",
       "      <td>62</td>\n",
       "      <td>101000</td>\n",
       "      <td>52</td>\n",
       "      <td>42</td>\n",
       "      <td>GOOG</td>\n",
       "      <td>1.890792e+12</td>\n",
       "      <td>NMS</td>\n",
       "    </tr>\n",
       "    <tr>\n",
       "      <th>3</th>\n",
       "      <td>3</td>\n",
       "      <td>Amazon</td>\n",
       "      <td>Agile SCM</td>\n",
       "      <td>500.0</td>\n",
       "      <td>10.5</td>\n",
       "      <td>15.0</td>\n",
       "      <td>95.0</td>\n",
       "      <td>90.0</td>\n",
       "      <td>ERP, AI, Blockchain</td>\n",
       "      <td>70.0</td>\n",
       "      <td>...</td>\n",
       "      <td>85.0</td>\n",
       "      <td>1635157</td>\n",
       "      <td>123000</td>\n",
       "      <td>63</td>\n",
       "      <td>101500</td>\n",
       "      <td>53</td>\n",
       "      <td>43</td>\n",
       "      <td>AMZN</td>\n",
       "      <td>2.042389e+12</td>\n",
       "      <td>NMS</td>\n",
       "    </tr>\n",
       "    <tr>\n",
       "      <th>4</th>\n",
       "      <td>4</td>\n",
       "      <td>Facebook</td>\n",
       "      <td>Lean Manufacturing</td>\n",
       "      <td>100.0</td>\n",
       "      <td>5.8</td>\n",
       "      <td>12.0</td>\n",
       "      <td>89.0</td>\n",
       "      <td>88.0</td>\n",
       "      <td>ERP, AI, Robotics</td>\n",
       "      <td>75.0</td>\n",
       "      <td>...</td>\n",
       "      <td>80.0</td>\n",
       "      <td>73150360</td>\n",
       "      <td>124000</td>\n",
       "      <td>64</td>\n",
       "      <td>102000</td>\n",
       "      <td>54</td>\n",
       "      <td>44</td>\n",
       "      <td>META</td>\n",
       "      <td>1.461263e+12</td>\n",
       "      <td>NMS</td>\n",
       "    </tr>\n",
       "  </tbody>\n",
       "</table>\n",
       "<p>5 rows × 33 columns</p>\n",
       "</div>"
      ],
      "text/plain": [
       "   Unnamed: 0 Company Name       SCM Practices  Supplier Count  \\\n",
       "0           0        Apple           Agile SCM           300.0   \n",
       "1           1    Microsoft  Lean Manufacturing           200.0   \n",
       "2           2       Google       Cross-Docking         20000.0   \n",
       "3           3       Amazon           Agile SCM           500.0   \n",
       "4           4     Facebook  Lean Manufacturing           100.0   \n",
       "\n",
       "   Inventory Turnover Ratio  Lead Time (days)  Order Fulfillment Rate (%)  \\\n",
       "0                       7.0               8.0                        94.0   \n",
       "1                       5.2              15.0                        91.0   \n",
       "2                       7.5               4.0                        95.0   \n",
       "3                      10.5              15.0                        95.0   \n",
       "4                       5.8              12.0                        89.0   \n",
       "\n",
       "   Customer Satisfaction (%)  Technology Utilized  Environmental Impact Score  \\\n",
       "0                       91.0  ERP, AI, Blockchain                        70.0   \n",
       "1                       89.0    ERP, AI, Robotics                        75.0   \n",
       "2                       90.0  AI, ERP, Blockchain                        70.0   \n",
       "3                       90.0  ERP, AI, Blockchain                        70.0   \n",
       "4                       88.0    ERP, AI, Robotics                        75.0   \n",
       "\n",
       "   ... Supplier Relationship Score  Total Implementation Cost  \\\n",
       "0  ...                        85.0                   48566365   \n",
       "1  ...                        85.0                   54456148   \n",
       "2  ...                        85.0                   78733131   \n",
       "3  ...                        85.0                    1635157   \n",
       "4  ...                        80.0                   73150360   \n",
       "\n",
       "   Carbon Emissions (kg CO2e)  Recycling Rate (%) Energy Consumption (MWh)  \\\n",
       "0                      120000                  60                   100000   \n",
       "1                      121000                  61                   100500   \n",
       "2                      122000                  62                   101000   \n",
       "3                      123000                  63                   101500   \n",
       "4                      124000                  64                   102000   \n",
       "\n",
       "  Use of Renewable Energy (%) Green Packaging Usage (%) Ticker    Market Cap  \\\n",
       "0                          50                        40   AAPL  3.273316e+12   \n",
       "1                          51                        41   MSFT  2.815991e+12   \n",
       "2                          52                        42   GOOG  1.890792e+12   \n",
       "3                          53                        43   AMZN  2.042389e+12   \n",
       "4                          54                        44   META  1.461263e+12   \n",
       "\n",
       "   Exchange  \n",
       "0       NMS  \n",
       "1       NMS  \n",
       "2       NMS  \n",
       "3       NMS  \n",
       "4       NMS  \n",
       "\n",
       "[5 rows x 33 columns]"
      ]
     },
     "execution_count": 67,
     "metadata": {},
     "output_type": "execute_result"
    }
   ],
   "source": [
    "full_df.head()"
   ]
  },
  {
   "cell_type": "code",
   "execution_count": 68,
   "id": "4f9754c7",
   "metadata": {},
   "outputs": [],
   "source": [
    "# full_df['Ticker'] = full_df['Ticker'].astype(str)"
   ]
  },
  {
   "cell_type": "code",
   "execution_count": 69,
   "id": "2c6842cc",
   "metadata": {},
   "outputs": [],
   "source": [
    "# full_df.info()"
   ]
  },
  {
   "cell_type": "code",
   "execution_count": 70,
   "id": "84cc7262",
   "metadata": {},
   "outputs": [],
   "source": [
    "# full_df['Exchange'] = full_df['Exchange'].astype(str)"
   ]
  },
  {
   "cell_type": "code",
   "execution_count": 71,
   "id": "4b20fbcc",
   "metadata": {},
   "outputs": [],
   "source": [
    "# for idx, row in tqdm(full_df.iterrows(), total=len(full_df)):\n",
    "#     company_name = row[\"Company Name\"]\n",
    "    \n",
    "#     # Only fetch if not already filled\n",
    "#     if full_df.at[idx, \"Exchange\"] == 'nan':\n",
    "#         ticker = row['Ticker']\n",
    "#         try:\n",
    "#             dat = yf.Ticker(ticker)\n",
    "#             full_df.at[idx, \"Exchange\"] = dat.info['exchange']\n",
    "#         except:\n",
    "#             full_df.at[idx, \"Exchange\"] = None\n",
    "        \n",
    "#         # Sleep a bit between requests (you can tune this)\n",
    "#         time.sleep(0.1)  # 1.5 seconds between calls to avoid hammering the server"
   ]
  },
  {
   "cell_type": "code",
   "execution_count": 72,
   "id": "f8af0fb2",
   "metadata": {},
   "outputs": [],
   "source": [
    "# full_df['Market Cap'] = np.where(pd.isna(full_df[\"Ticker\"]), None, full_df['Market Cap'])"
   ]
  },
  {
   "cell_type": "code",
   "execution_count": 73,
   "id": "c7f7c8eb",
   "metadata": {},
   "outputs": [],
   "source": [
    "# full_df.info()"
   ]
  },
  {
   "cell_type": "code",
   "execution_count": 74,
   "id": "c6a167f4",
   "metadata": {},
   "outputs": [],
   "source": [
    "# full_df[full_df['Exchange'] == 'None']"
   ]
  },
  {
   "cell_type": "code",
   "execution_count": 75,
   "id": "0e36b973",
   "metadata": {
    "scrolled": false
   },
   "outputs": [],
   "source": [
    "# full_df['Exchange'] = np.where(full_df['Ticker'] == 'nan', None, full_df['Exchange'])"
   ]
  },
  {
   "cell_type": "code",
   "execution_count": 80,
   "id": "e97a34c3",
   "metadata": {},
   "outputs": [],
   "source": [
    "full_df['Exchange'] = full_df['Exchange'].astype(str)"
   ]
  },
  {
   "cell_type": "code",
   "execution_count": 82,
   "id": "aaa3dc90",
   "metadata": {},
   "outputs": [],
   "source": [
    "# full_df"
   ]
  },
  {
   "cell_type": "code",
   "execution_count": 83,
   "id": "11f4d941",
   "metadata": {},
   "outputs": [
    {
     "data": {
      "text/plain": [
       "array(['AMS', 'ASE', 'BER', 'BRU', 'BSE', 'BTS', 'CAI', 'CCC', 'CCY',\n",
       "       'CPH', 'CXA', 'CXE', 'DUS', 'DXE', 'EBS', 'FRA', 'GER', 'HEL',\n",
       "       'HKG', 'IOB', 'JKT', 'JPX', 'KOE', 'KSC', 'LSE', 'MEX', 'MIL',\n",
       "       'MUN', 'NAS', 'NCM', 'NGM', 'NMS', 'NSI', 'NYQ', 'OEM', 'OSL',\n",
       "       'PAR', 'PNK', 'SET', 'SHH', 'SHZ', 'SNP', 'STU', 'TAI', 'VAN',\n",
       "       'VIE', 'nan'], dtype=object)"
      ]
     },
     "execution_count": 83,
     "metadata": {},
     "output_type": "execute_result"
    }
   ],
   "source": [
    "np.unique(full_df['Exchange'])"
   ]
  },
  {
   "cell_type": "code",
   "execution_count": 84,
   "id": "8fda3ff5",
   "metadata": {},
   "outputs": [],
   "source": [
    "us_exchanges = ['ASE', 'NAS', 'NMS', 'NYQ', 'PNK']"
   ]
  },
  {
   "cell_type": "code",
   "execution_count": 86,
   "id": "49ecd74f",
   "metadata": {},
   "outputs": [],
   "source": [
    "full_df['US Exchange'] = np.where(full_df['Exchange'].isin(us_exchanges), True, False)"
   ]
  },
  {
   "cell_type": "code",
   "execution_count": 91,
   "id": "0751d214",
   "metadata": {},
   "outputs": [
    {
     "name": "stdout",
     "output_type": "stream",
     "text": [
      "market cap: 3,273,315,581,952.0\n"
     ]
    }
   ],
   "source": [
    "max_cap = full_df[full_df['US Exchange'] == True]['Market Cap'].max()\n",
    "print(f'market cap: {max_cap:,}')"
   ]
  },
  {
   "cell_type": "code",
   "execution_count": 88,
   "id": "ad1d9751",
   "metadata": {},
   "outputs": [],
   "source": [
    "full_df.to_csv('data/SCM_Dataset_plus_MarketCap_Exchange.csv')"
   ]
  },
  {
   "cell_type": "markdown",
   "id": "2a83b2d7",
   "metadata": {},
   "source": [
    "## Examining Dataset w/ Market Cap"
   ]
  },
  {
   "cell_type": "code",
   "execution_count": null,
   "id": "6cb07c31",
   "metadata": {},
   "outputs": [],
   "source": [
    "mktcap_df = pd.read_csv('data/SCM_Dataset_plus_MarketCap.csv')"
   ]
  },
  {
   "cell_type": "code",
   "execution_count": null,
   "id": "9984472a",
   "metadata": {},
   "outputs": [],
   "source": [
    "mktcap_df.drop(columns = {'Unnamed: 0', 'Unnamed: 0.1'}, inplace = True)"
   ]
  },
  {
   "cell_type": "code",
   "execution_count": null,
   "id": "62c386c7",
   "metadata": {},
   "outputs": [],
   "source": [
    "apple_mc = mktcap_df[mktcap_df['Company Name'] == 'Apple']['Market Cap'].values[0]\n",
    "kia_mc = mktcap_df[mktcap_df['Company Name'] == 'Kia']['Market Cap'].values[0]"
   ]
  },
  {
   "cell_type": "code",
   "execution_count": null,
   "id": "ccafae64",
   "metadata": {},
   "outputs": [],
   "source": [
    "print(f'Kia Market Cap: {kia_mc:,}')"
   ]
  },
  {
   "cell_type": "code",
   "execution_count": null,
   "id": "607fd75e",
   "metadata": {},
   "outputs": [],
   "source": [
    "mktcap_df[mktcap_df['Company Name'] == 'Kia']"
   ]
  },
  {
   "cell_type": "code",
   "execution_count": null,
   "id": "cf34b40f",
   "metadata": {},
   "outputs": [],
   "source": [
    "dat = yf.Ticker('INKP.JK')"
   ]
  },
  {
   "cell_type": "code",
   "execution_count": null,
   "id": "eba6ae78",
   "metadata": {
    "scrolled": false
   },
   "outputs": [],
   "source": [
    "dat.info"
   ]
  },
  {
   "cell_type": "code",
   "execution_count": null,
   "id": "48b2037d",
   "metadata": {},
   "outputs": [],
   "source": []
  }
 ],
 "metadata": {
  "kernelspec": {
   "display_name": "Python 3 (ipykernel)",
   "language": "python",
   "name": "python3"
  },
  "language_info": {
   "codemirror_mode": {
    "name": "ipython",
    "version": 3
   },
   "file_extension": ".py",
   "mimetype": "text/x-python",
   "name": "python",
   "nbconvert_exporter": "python",
   "pygments_lexer": "ipython3",
   "version": "3.10.9"
  }
 },
 "nbformat": 4,
 "nbformat_minor": 5
}
